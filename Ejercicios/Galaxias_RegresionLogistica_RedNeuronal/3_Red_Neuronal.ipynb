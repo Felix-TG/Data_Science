{
 "cells": [
  {
   "cell_type": "code",
   "execution_count": 1,
   "metadata": {
    "collapsed": true
   },
   "outputs": [],
   "source": [
    "%matplotlib inline\n",
    "\n",
    "import matplotlib.pyplot as plt\n",
    "from pyspark.ml.evaluation import BinaryClassificationEvaluator as BCE\n",
    "from pyspark.ml.classification import MultilayerPerceptronClassifier\n",
    "\n",
    "import week4 as w4"
   ]
  },
  {
   "cell_type": "markdown",
   "metadata": {},
   "source": [
    "## 3. Modelo de Red Neuronal\n",
    "\n",
    "Una de las tipologías de algoritmos más utilizadas para la clasificación de imágenes es la Red Neuronal. En esta sección vamos a utilizar una para intentar obtener una fiabilidad más alta."
   ]
  },
  {
   "cell_type": "code",
   "execution_count": 2,
   "metadata": {
    "collapsed": true
   },
   "outputs": [],
   "source": [
    "#leemos los datos\n",
    "df_raw = sqlContext.read.parquet('pca_features.parquet')\n",
    "df = df_raw.withColumn('label', (df_raw['target'] - 1).astype('double'))['dr7objid', 'pca_features', 'label']"
   ]
  },
  {
   "cell_type": "markdown",
   "metadata": {},
   "source": [
    "### Partición Test - Train"
   ]
  },
  {
   "cell_type": "code",
   "execution_count": 3,
   "metadata": {
    "collapsed": true
   },
   "outputs": [],
   "source": [
    "(df_train, df_test) = df.randomSplit([0.7, 0.3], seed=1234)"
   ]
  },
  {
   "cell_type": "markdown",
   "metadata": {},
   "source": [
    "### Entrenamiento"
   ]
  },
  {
   "cell_type": "markdown",
   "metadata": {},
   "source": [
    "Primero tenemos que definir la estructura de nuestra red neuronal con:\n",
    "\n",
    "+ 64 nodos de entrada\n",
    "+ 16 y 8 nodos en las capas ocultas\n",
    "+ 2 nodos de salida"
   ]
  },
  {
   "cell_type": "code",
   "execution_count": 28,
   "metadata": {
    "collapsed": true
   },
   "outputs": [],
   "source": [
    "layers = [64, 16, 8, 2] "
   ]
  },
  {
   "cell_type": "markdown",
   "metadata": {},
   "source": [
    "Creamos la red neuronal y la entrenamos."
   ]
  },
  {
   "cell_type": "code",
   "execution_count": 29,
   "metadata": {
    "collapsed": true
   },
   "outputs": [],
   "source": [
    "mlp = MultilayerPerceptronClassifier(labelCol=\"label\",\n",
    "                                     featuresCol=\"pca_features\", \n",
    "                                     maxIter=100, \n",
    "                                     layers=layers, \n",
    "                                     seed=123)\n",
    "\n",
    "mlp_model = mlp.fit(df_train)"
   ]
  },
  {
   "cell_type": "markdown",
   "metadata": {},
   "source": [
    "### Validación"
   ]
  },
  {
   "cell_type": "code",
   "execution_count": 32,
   "metadata": {},
   "outputs": [
    {
     "name": "stdout",
     "output_type": "stream",
     "text": [
      "Recall / Sensitivity / TPR =  0.9536903039073806\n",
      "Specificity = 1 - FPR =  0.9340659340659341\n",
      "Precision =  0.9648609077598829\n",
      "Prevalence =  0.6549763033175355\n",
      "Accuracy =  0.9469194312796209\n",
      "+-----+----------+-----+\n",
      "|label|prediction|count|\n",
      "+-----+----------+-----+\n",
      "|  0.0|       0.0|  340|\n",
      "|  0.0|       1.0|   24|\n",
      "|  1.0|       0.0|   32|\n",
      "|  1.0|       1.0|  659|\n",
      "+-----+----------+-----+\n",
      "\n"
     ]
    }
   ],
   "source": [
    "pred_df = mlp_model.transform(df_test)\n",
    "cm = w4.confussion_matrix(pred_df, 'label', 'prediction').show()"
   ]
  },
  {
   "cell_type": "markdown",
   "metadata": {},
   "source": [
    "Vemos que el porcentaje de aciertos se ha incrementado con respecto al algoritmo de regresión logística. Ahora tenemos cerca de un 95% de aciertos."
   ]
  },
  {
   "cell_type": "markdown",
   "metadata": {},
   "source": [
    "# Conclusiones\n",
    "\n",
    "A pesar de que no podemos hacer una comparación directa de los parámetros que utilizamos para ambos algoritmos, el de Regresión Logística y Red Neuronal, la Red Neuronal parece ser el mejor candidato sobre el cual afinar nuestro modelo.\n",
    "\n",
    "\n",
    "Para dicha afinación se pueden ir desde lo más basico como un filtrado más detallado de los datos hasta modificar el número de iteraciones o nodos en las capas del algoritmo.\n",
    "\n",
    "\n",
    "Como trabajo a futuro, el contraste de las fotos puede ser incrementado para una mejor distinción entre formas.\n",
    "\n"
   ]
  },
  {
   "cell_type": "code",
   "execution_count": null,
   "metadata": {},
   "outputs": [],
   "source": []
  }
 ],
 "metadata": {
  "anaconda-cloud": {},
  "kernelspec": {
   "display_name": "Python 3",
   "language": "python",
   "name": "python3"
  },
  "language_info": {
   "codemirror_mode": {
    "name": "ipython",
    "version": 3
   },
   "file_extension": ".py",
   "mimetype": "text/x-python",
   "name": "python",
   "nbconvert_exporter": "python",
   "pygments_lexer": "ipython3",
   "version": "3.7.3"
  }
 },
 "nbformat": 4,
 "nbformat_minor": 1
}
