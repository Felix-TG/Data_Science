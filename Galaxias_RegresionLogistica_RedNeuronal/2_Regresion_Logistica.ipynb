{
 "cells": [
  {
   "cell_type": "code",
   "execution_count": 1,
   "metadata": {
    "collapsed": true
   },
   "outputs": [],
   "source": [
    "%matplotlib inline\n",
    "\n",
    "import matplotlib.pyplot as plt\n",
    "from pyspark.ml.evaluation import BinaryClassificationEvaluator as BCE\n",
    "from pyspark.ml.classification import LogisticRegression\n",
    "\n",
    "import week4 as w4"
   ]
  },
  {
   "cell_type": "markdown",
   "metadata": {},
   "source": [
    "## 2. Modelo de Regresión Logística\n",
    "\n",
    "En esta sección aplicaremos un algoritmo de regresión logística como el visto en el curso 3, para la clasificación de la imágenes de galaxias."
   ]
  },
  {
   "cell_type": "markdown",
   "metadata": {},
   "source": [
    "Leemos los datos guardados en el fichero `.parquet`."
   ]
  },
  {
   "cell_type": "code",
   "execution_count": 3,
   "metadata": {},
   "outputs": [
    {
     "name": "stdout",
     "output_type": "stream",
     "text": [
      "+------------------+------+--------------------+\n",
      "|          dr7objid|target|        pca_features|\n",
      "+------------------+------+--------------------+\n",
      "|587738947743055899|     2|[19.6803262089333...|\n",
      "|587722982829850800|     2|[-2.3769119439158...|\n",
      "|587732771049111588|     1|[7.78475874033086...|\n",
      "|587741722822180915|     1|[-1.1826744292940...|\n",
      "|587742568935587892|     2|[4.55592541000173...|\n",
      "|588017606293848123|     1|[-1.5240227079915...|\n",
      "|587736920508399689|     2|[7.88550662893938...|\n",
      "|587741600964411477|     2|[7.27102075798117...|\n",
      "|587733399170515042|     2|[-2.7973181434018...|\n",
      "|588010360685592719|     2|[-2.0297695896096...|\n",
      "+------------------+------+--------------------+\n",
      "only showing top 10 rows\n",
      "\n"
     ]
    }
   ],
   "source": [
    "df_raw = sqlContext.read.parquet('pca_features.parquet')\n",
    "df_raw.show(10)"
   ]
  },
  {
   "cell_type": "code",
   "execution_count": 5,
   "metadata": {},
   "outputs": [
    {
     "name": "stdout",
     "output_type": "stream",
     "text": [
      "+------------------+--------------------+-----+\n",
      "|          dr7objid|        pca_features|label|\n",
      "+------------------+--------------------+-----+\n",
      "|587738947743055899|[19.6803262089333...|  1.0|\n",
      "|587722982829850800|[-2.3769119439158...|  1.0|\n",
      "|587732771049111588|[7.78475874033086...|  0.0|\n",
      "|587741722822180915|[-1.1826744292940...|  0.0|\n",
      "|587742568935587892|[4.55592541000173...|  1.0|\n",
      "|588017606293848123|[-1.5240227079915...|  0.0|\n",
      "|587736920508399689|[7.88550662893938...|  1.0|\n",
      "|587741600964411477|[7.27102075798117...|  1.0|\n",
      "|587733399170515042|[-2.7973181434018...|  1.0|\n",
      "|588010360685592719|[-2.0297695896096...|  1.0|\n",
      "+------------------+--------------------+-----+\n",
      "only showing top 10 rows\n",
      "\n"
     ]
    }
   ],
   "source": [
    "#Reformateamos 'target' a 'double'. De paso mapeamos el valor del target a {0, 1}\n",
    "#* elíptica = 1 -> 0\n",
    "#* espiral = 2 -> 1\n",
    "df = df_raw.withColumn('label', (df_raw['target'] - 1).astype('double'))['dr7objid', 'pca_features', 'label']\n",
    "df.show(10)"
   ]
  },
  {
   "cell_type": "markdown",
   "metadata": {},
   "source": [
    "### Partición Test - Train\n",
    "\n",
    "Dividiremos nuestro set de datos en dos subsets más pequeños\n",
    "* df_train: para el entrenamiento del modelo (Train) con un 70% de los datos\n",
    "* df_test: para la validación (Test) con un 30% de los datos"
   ]
  },
  {
   "cell_type": "code",
   "execution_count": 6,
   "metadata": {
    "collapsed": true
   },
   "outputs": [],
   "source": [
    "(df_train, df_test) = df.randomSplit([0.7, 0.3], seed=123)"
   ]
  },
  {
   "cell_type": "markdown",
   "metadata": {},
   "source": [
    "### Entrenamiento"
   ]
  },
  {
   "cell_type": "code",
   "execution_count": 7,
   "metadata": {
    "collapsed": true
   },
   "outputs": [],
   "source": [
    "lgr = LogisticRegression(maxIter=100,\n",
    "                         labelCol=\"label\",\n",
    "                         featuresCol=\"pca_features\",\n",
    "                         tol=1e-18,\n",
    "                         regParam=0.003)\n",
    "                        \n",
    "model = lgr.fit(df_train)"
   ]
  },
  {
   "cell_type": "markdown",
   "metadata": {},
   "source": [
    "### Validación"
   ]
  },
  {
   "cell_type": "markdown",
   "metadata": {},
   "source": [
    "Aplicamos el modelo para generar la predicción"
   ]
  },
  {
   "cell_type": "code",
   "execution_count": 23,
   "metadata": {},
   "outputs": [
    {
     "data": {
      "text/plain": [
       "['dr7objid',\n",
       " 'pca_features',\n",
       " 'label',\n",
       " 'rawPrediction',\n",
       " 'probability',\n",
       " 'prediction',\n",
       " 'probs']"
      ]
     },
     "execution_count": 23,
     "metadata": {},
     "output_type": "execute_result"
    }
   ],
   "source": [
    "pred_df = model.transform(df_test)\n",
    "pred_df.columns"
   ]
  },
  {
   "cell_type": "markdown",
   "metadata": {},
   "source": [
    "Comparamos la predicción con la clasificación real"
   ]
  },
  {
   "cell_type": "code",
   "execution_count": 9,
   "metadata": {},
   "outputs": [
    {
     "name": "stdout",
     "output_type": "stream",
     "text": [
      "Recall / Sensitivity / TPR =  0.8705234159779615\n",
      "Specificity = 1 - FPR =  0.7531172069825436\n",
      "Precision =  0.8645690834473324\n",
      "Prevalence =  0.6441881100266194\n",
      "Accuracy =  0.8287488908606921\n",
      "+-----+----------+-----+\n",
      "|label|prediction|count|\n",
      "+-----+----------+-----+\n",
      "|  0.0|       0.0|  302|\n",
      "|  0.0|       1.0|   99|\n",
      "|  1.0|       0.0|   94|\n",
      "|  1.0|       1.0|  632|\n",
      "+-----+----------+-----+\n",
      "\n"
     ]
    }
   ],
   "source": [
    "pred_df.select('label','prediction')\n",
    "cm = w4.confussion_matrix(pred_df, 'label', 'prediction').show()"
   ]
  },
  {
   "cell_type": "markdown",
   "metadata": {},
   "source": [
    "Vemos que todos los indicadores de la bondad del modelo son bastante buenos. En particular podemos destacar que el porcentaje de aciertos (Accuracy) del modelo es del 83%.\n",
    "\n",
    "También analizaremos la bondad del modelo a través de una curva ROC"
   ]
  },
  {
   "cell_type": "code",
   "execution_count": 10,
   "metadata": {
    "collapsed": true
   },
   "outputs": [],
   "source": [
    "pred_df = pred_df.withColumn('probs', w4.ith_element(1)('probability'))"
   ]
  },
  {
   "cell_type": "code",
   "execution_count": 11,
   "metadata": {},
   "outputs": [
    {
     "data": {
      "image/png": "[encoded data removed]",
      "text/plain": [
       "<matplotlib.figure.Figure at 0x7f988a2c1cc0>"
      ]
     },
     "metadata": {},
     "output_type": "display_data"
    }
   ],
   "source": [
    "w4.ROC_curve(pred_df)"
   ]
  },
  {
   "cell_type": "markdown",
   "metadata": {
    "collapsed": true
   },
   "source": [
    "Y vemos el área por debajo de la curva ROC. "
   ]
  },
  {
   "cell_type": "code",
   "execution_count": 12,
   "metadata": {},
   "outputs": [
    {
     "name": "stdout",
     "output_type": "stream",
     "text": [
      "AUC =  0.8976319531749137\n"
     ]
    }
   ],
   "source": [
    "print('AUC = ', BCE(metricName=\"areaUnderROC\", rawPredictionCol='probability').evaluate(pred_df))"
   ]
  },
  {
   "cell_type": "markdown",
   "metadata": {
    "collapsed": true
   },
   "source": [
    "Concluyendo que es un buen clasificador sin overfitting"
   ]
  },
  {
   "cell_type": "code",
   "execution_count": null,
   "metadata": {},
   "outputs": [],
   "source": []
  }
 ],
 "metadata": {
  "anaconda-cloud": {},
  "kernelspec": {
   "display_name": "Python 3",
   "language": "python",
   "name": "python3"
  },
  "language_info": {
   "codemirror_mode": {
    "name": "ipython",
    "version": 3
   },
   "file_extension": ".py",
   "mimetype": "text/x-python",
   "name": "python",
   "nbconvert_exporter": "python",
   "pygments_lexer": "ipython3",
   "version": "3.7.3"
  }
 },
 "nbformat": 4,
 "nbformat_minor": 1
}
